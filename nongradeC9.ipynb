{
 "cells": [
  {
   "cell_type": "code",
   "execution_count": 1,
   "metadata": {},
   "outputs": [
    {
     "name": "stdout",
     "output_type": "stream",
     "text": [
      "Jumlah lemparan: 50000\n",
      "Jumlah kepala: 25072\n",
      "Jumlah ekor: 24928\n",
      "Probabilitas kepala: 0.50144\n",
      "Probabilitas ekor: 0.49856\n"
     ]
    }
   ],
   "source": [
    "import random\n",
    "\n",
    "# Inisialisasi jumlah lemparan dan hitung kepala dan ekor\n",
    "num_flips = 50000\n",
    "heads = 0\n",
    "tails = 0\n",
    "\n",
    "# Simulasi lemparan koin\n",
    "for _ in range(num_flips):\n",
    "    # Generate angka random antara 0 dan 1\n",
    "    flip = random.randint(0, 1)\n",
    "    \n",
    "    # 0: kepala, 1: ekor\n",
    "    if flip == 0:\n",
    "        heads += 1\n",
    "    else:\n",
    "        tails += 1\n",
    "\n",
    "# Cetak hasil\n",
    "print(\"Jumlah lemparan:\", num_flips)\n",
    "print(\"Jumlah kepala:\", heads)\n",
    "print(\"Jumlah ekor:\", tails)\n",
    "print(\"Probabilitas kepala:\", heads / num_flips)\n",
    "print(\"Probabilitas ekor:\", tails / num_flips)\n"
   ]
  }
 ],
 "metadata": {
  "kernelspec": {
   "display_name": "Python 3",
   "language": "python",
   "name": "python3"
  },
  "language_info": {
   "codemirror_mode": {
    "name": "ipython",
    "version": 3
   },
   "file_extension": ".py",
   "mimetype": "text/x-python",
   "name": "python",
   "nbconvert_exporter": "python",
   "pygments_lexer": "ipython3",
   "version": "3.8.16"
  },
  "orig_nbformat": 4
 },
 "nbformat": 4,
 "nbformat_minor": 2
}
