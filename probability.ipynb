{
 "cells": [
  {
   "attachments": {},
   "cell_type": "markdown",
   "metadata": {},
   "source": [
    "Make a code to simulate throw coins 50,000 times with assign value random in the form of 0 and 1 for the head or tail.Every time the coin is thrown, the chance to get a head or tail is 50%."
   ]
  },
  {
   "cell_type": "code",
   "execution_count": 1,
   "metadata": {},
   "outputs": [
    {
     "name": "stdout",
     "output_type": "stream",
     "text": [
      "Jumlah lemparan: 50000\n",
      "Jumlah kepala: 25020\n",
      "Jumlah ekor: 24980\n",
      "Probabilitas kepala: 0.5004\n",
      "Probabilitas ekor: 0.4996\n"
     ]
    }
   ],
   "source": [
    "import random \n",
    "\n",
    "# Initialize the number of throwing and head and tail count\n",
    "num_flips = 50000\n",
    "heads = 0\n",
    "tails = 0\n",
    "\n",
    "# Coin throw simulation\n",
    "for _ in range(num_flips):\n",
    "    # Generate random numbers between 0 and 1\n",
    "    flip = random.randint(0, 1)\n",
    "    \n",
    "    # 0: Head, 1: tail\n",
    "    if flip == 0:\n",
    "        heads += 1\n",
    "    else:\n",
    "        tails += 1\n",
    "\n",
    "# Print results\n",
    "print(\"Jumlah lemparan:\", num_flips)\n",
    "print(\"Jumlah kepala:\", heads)\n",
    "print(\"Jumlah ekor:\", tails)\n",
    "print(\"Probabilitas kepala:\", heads / num_flips)\n",
    "print(\"Probabilitas ekor:\", tails / num_flips)\n"
   ]
  }
 ],
 "metadata": {
  "kernelspec": {
   "display_name": "Python 3",
   "language": "python",
   "name": "python3"
  },
  "language_info": {
   "codemirror_mode": {
    "name": "ipython",
    "version": 3
   },
   "file_extension": ".py",
   "mimetype": "text/x-python",
   "name": "python",
   "nbconvert_exporter": "python",
   "pygments_lexer": "ipython3",
   "version": "3.8.16"
  },
  "orig_nbformat": 4
 },
 "nbformat": 4,
 "nbformat_minor": 2
}
